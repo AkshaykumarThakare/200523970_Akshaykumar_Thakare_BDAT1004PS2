{
 "cells": [
  {
   "cell_type": "markdown",
   "id": "d31a465b",
   "metadata": {},
   "source": [
    "# Data Programming - Problem Set 2"
   ]
  },
  {
   "cell_type": "markdown",
   "id": "5ca61142",
   "metadata": {},
   "source": [
    "## Answer 1\n"
   ]
  },
  {
   "cell_type": "code",
   "execution_count": 1,
   "id": "59daa3a9",
   "metadata": {},
   "outputs": [],
   "source": [
    "a = 0\n",
    "\n",
    "def b():\n",
    "    global a\n",
    "    a = c(a)\n",
    "\n",
    "def c(a):\n",
    "    return a + 2\n"
   ]
  },
  {
   "cell_type": "code",
   "execution_count": 2,
   "id": "9c8944d9",
   "metadata": {},
   "outputs": [
    {
     "data": {
      "text/plain": [
       "6"
      ]
     },
     "execution_count": 2,
     "metadata": {},
     "output_type": "execute_result"
    }
   ],
   "source": [
    ">>> b()\n",
    ">>> b()\n",
    ">>> b()\n",
    ">>> a\n"
   ]
  },
  {
   "cell_type": "markdown",
   "id": "7b817d02",
   "metadata": {},
   "source": [
    "Explaination\n",
    "1) Variable a is set to 0.<br>\n",
    "2) Then the function b is called which updates the global variable using the function c(a), which returns the value of a plus 2. So, a becomes 2.<br>\n",
    "3) Now b is called for second time, it again updates the global variable a using the function c(a). So, a becomes 4.<br>\n",
    "4) At last when b is called for the third time, a is updated to 6.<br>\n",
    "5) Finally, when you print the value of a, it will display the last value it was assigned, which is 6.<br>\n",
    "\n"
   ]
  },
  {
   "cell_type": "markdown",
   "id": "356da01e",
   "metadata": {},
   "source": [
    "## Answer 2 "
   ]
  },
  {
   "cell_type": "code",
   "execution_count": 3,
   "id": "55b834e9",
   "metadata": {},
   "outputs": [
    {
     "name": "stdout",
     "output_type": "stream",
     "text": [
      "Given file length is : 123\n",
      "File Random.txt not found.\n"
     ]
    }
   ],
   "source": [
    "def fileLength(fl):\n",
    "    try:                    \n",
    "        file = open(fl, \"r\")                                     \n",
    "        contents=file.read()                                               \n",
    "        print('Given file length is : '+ str(len(contents)))         \n",
    "        file.close()                                                   \n",
    "    except:                                                           \n",
    "        print('File '+fl+' not found.')\n",
    "fileLength(\"Filelength.txt\")\n",
    "fileLength(\"Random.txt\")"
   ]
  },
  {
   "cell_type": "markdown",
   "id": "4d119c97",
   "metadata": {},
   "source": [
    "## Answer 3 "
   ]
  },
  {
   "cell_type": "code",
   "execution_count": 4,
   "id": "5c9244d8",
   "metadata": {},
   "outputs": [
    {
     "name": "stdout",
     "output_type": "stream",
     "text": [
      "['doll', 'firetruck', 'kitten']\n",
      "I am a Kangaroo located at coordinates (0,0)\n",
      "['doll', 'firetruck', 'kitten']\n",
      "I am a Kangaroo located at coordinates (3,0)\n"
     ]
    }
   ],
   "source": [
    "class Marsupial:    #defining class\n",
    "    def __init__(self):  #Intializing constructor\n",
    "        self.pouch = []\n",
    "\n",
    "    def put_in_pouch(self, item):\n",
    "        self.pouch.append(item)\n",
    "\n",
    "    def pouch_contents(self):\n",
    "        return self.pouch\n",
    "\n",
    "\n",
    "class Kangaroo(Marsupial): #Kangaroo inherits all contents of Marsupial\n",
    "    def __init__(self, x, y):\n",
    "        super().__init__()\n",
    "        self.x = x\n",
    "        self.y = y\n",
    "\n",
    "    def jump(self, dx, dy):\n",
    "        self.x += dx\n",
    "        self.y += dy\n",
    "\n",
    "    def __str__(self):\n",
    "        return f\"I am a Kangaroo located at coordinates ({self.x},{self.y})\"\n",
    "\n",
    "\n",
    "# Testing the classes\n",
    "m = Marsupial()\n",
    "m.put_in_pouch('doll')\n",
    "m.put_in_pouch('firetruck')\n",
    "m.put_in_pouch('kitten')\n",
    "print(m.pouch_contents())\n",
    "\n",
    "k = Kangaroo(0, 0)\n",
    "print(k)\n",
    "k.put_in_pouch('doll')\n",
    "k.put_in_pouch('firetruck')\n",
    "k.put_in_pouch('kitten')\n",
    "print(k.pouch_contents())\n",
    "k.jump(1, 0)\n",
    "k.jump(1, 0)\n",
    "k.jump(1, 0)\n",
    "print(k)\n"
   ]
  },
  {
   "cell_type": "markdown",
   "id": "e6e3ad26",
   "metadata": {},
   "source": [
    "## Answer 4"
   ]
  },
  {
   "cell_type": "code",
   "execution_count": 5,
   "id": "613ff22e",
   "metadata": {},
   "outputs": [
    {
     "name": "stdout",
     "output_type": "stream",
     "text": [
      "1\n",
      "10\n",
      "5\n",
      "16\n",
      "8\n",
      "4\n",
      "2\n",
      "1\n"
     ]
    }
   ],
   "source": [
    "def collatz(y): #Defining Function\n",
    "    print(y)\n",
    "    if y == 1: #Checking if y is equal to 1 or not\n",
    "        return\n",
    "    elif y % 2 == 0: #Checking if x is even or not\n",
    "        collatz(y // 2)\n",
    "    else:\n",
    "        collatz(3 * y + 1)\n",
    "\n",
    "# Test the function with the provided examples\n",
    "collatz(1)\n",
    "collatz(10)\n"
   ]
  },
  {
   "cell_type": "markdown",
   "id": "81e1964c",
   "metadata": {},
   "source": [
    "## Answer 5"
   ]
  },
  {
   "cell_type": "code",
   "execution_count": 6,
   "id": "4bc21126",
   "metadata": {},
   "outputs": [
    {
     "name": "stdout",
     "output_type": "stream",
     "text": [
      "0\n",
      "1\n",
      "11\n",
      "1001\n"
     ]
    }
   ],
   "source": [
    "def binary(num):\n",
    "    if num > 1:\n",
    "        binary(num // 2)\n",
    "    print(num % 2, end='')\n",
    "\n",
    "# Test the function with the provided examples\n",
    "binary(0)\n",
    "print()\n",
    "binary(1)\n",
    "print()\n",
    "binary(3)\n",
    "print()\n",
    "binary(9)\n",
    "print()\n"
   ]
  },
  {
   "cell_type": "markdown",
   "id": "8728d23f",
   "metadata": {},
   "source": [
    "## Answer 6"
   ]
  },
  {
   "cell_type": "code",
   "execution_count": 7,
   "id": "98645d8a",
   "metadata": {},
   "outputs": [
    {
     "name": "stdout",
     "output_type": "stream",
     "text": [
      "\n",
      "\n",
      "\n",
      "\n",
      "\n",
      "\n",
      "  \n",
      "\n",
      "  \n",
      "\n",
      "  \n",
      "Change_me\n",
      "\n",
      "  \n",
      "\n",
      "  \n",
      "\n",
      "  \n",
      "\n",
      "\n",
      "\n",
      "\n",
      "\n",
      "\n",
      "  \n",
      "\t\n",
      "h1\n",
      "W3C Mission\n",
      "h1\n",
      "\n",
      "\t\n",
      "h2\n",
      "Principles\n",
      "h2\n",
      "\n",
      " \n",
      "\n",
      "\n",
      "\n",
      "\n",
      "\n"
     ]
    }
   ],
   "source": [
    "from html.parser import HTMLParser\n",
    "\n",
    "# Inherit from Html parser\n",
    "class HeadingParser(HTMLParser):\n",
    "    # Define the headings\n",
    "    headers = ['h1', 'h2', 'h3', 'h4', 'h5', 'h6']\n",
    "\n",
    "    # Handle the functions\n",
    "    def handle_starttag(self, tag, attrs):\n",
    "        if tag in self.headers:\n",
    "            print(tag)\n",
    "\n",
    "    def handle_endtag(self, tag):\n",
    "        if tag in self.headers:\n",
    "            print(tag)\n",
    "\n",
    "    def handle_data(self, data):\n",
    "        print(data)\n",
    "        \n",
    "# Testing\n",
    "parser = HeadingParser()\n",
    "infile = open('w3c.html')\n",
    "content = infile.read()\n",
    "infile.close()\n",
    "hp = HeadingParser()\n",
    "hp.feed(content)"
   ]
  },
  {
   "cell_type": "markdown",
   "id": "a178e752",
   "metadata": {},
   "source": [
    "## Answer 7"
   ]
  },
  {
   "cell_type": "code",
   "execution_count": 8,
   "id": "9032d18d",
   "metadata": {},
   "outputs": [],
   "source": [
    "from html.parser import HTMLParser    \n",
    "from urllib.request import urlopen\n",
    "from urllib.parse import urljoin\n",
    "\n",
    "class collector(HTMLParser):\n",
    "    \n",
    "\n",
    "    def __init__(self, url):\n",
    "      \n",
    "        HTMLParser.__init__(self)\n",
    "        self.url = url\n",
    "        self.links = []\n",
    "\n",
    "\n",
    "    def append(self):\n",
    "        \n",
    "        return self.links\n",
    "\n",
    "\n",
    "    def handle_starttag(self, url_tag, attributes):\n",
    "        for i in attributes:\n",
    "            mylinks = urljoin(self.url, a[1])\n",
    "            if mylinks[:4] == 'http': \n",
    "                self.url_links.append(mylinks)\n",
    "                i = 0\n",
    "def webdir(url, depth, i):\n",
    "   \n",
    "\n",
    "    depth = depth - 1    \n",
    "    print(i*'  ', url)         \n",
    "\n",
    "    objective = urlopen(url).read().decode()\n",
    "    collection = urlcollector(url)\n",
    "    collection.feed(objective)\n",
    "    urls = collection.append() \n",
    " \n",
    "    links = urls\n",
    "    i= i + 4\n",
    "\n",
    "\n",
    "    for link in links:\n",
    "        if depth < 0 or i < 0:\n",
    "            return 1\n",
    "        else:\n",
    "            webdir(link, depth, i)"
   ]
  },
  {
   "cell_type": "code",
   "execution_count": 9,
   "id": "28b52069",
   "metadata": {},
   "outputs": [
    {
     "name": "stdout",
     "output_type": "stream",
     "text": [
      " http://reed.cs.depaul.edu/lperkovic/csc242/test1.html\n"
     ]
    },
    {
     "ename": "HTTPError",
     "evalue": "HTTP Error 404: ",
     "output_type": "error",
     "traceback": [
      "\u001b[1;31m---------------------------------------------------------------------------\u001b[0m",
      "\u001b[1;31mHTTPError\u001b[0m                                 Traceback (most recent call last)",
      "Input \u001b[1;32mIn [9]\u001b[0m, in \u001b[0;36m<cell line: 1>\u001b[1;34m()\u001b[0m\n\u001b[1;32m----> 1\u001b[0m \u001b[43mwebdir\u001b[49m\u001b[43m(\u001b[49m\u001b[38;5;124;43m'\u001b[39;49m\u001b[38;5;124;43mhttp://reed.cs.depaul.edu/lperkovic/csc242/test1.html\u001b[39;49m\u001b[38;5;124;43m'\u001b[39;49m\u001b[43m,\u001b[49m\u001b[38;5;241;43m2\u001b[39;49m\u001b[43m,\u001b[49m\u001b[43m \u001b[49m\u001b[38;5;241;43m0\u001b[39;49m\u001b[43m)\u001b[49m\n",
      "Input \u001b[1;32mIn [8]\u001b[0m, in \u001b[0;36mwebdir\u001b[1;34m(url, depth, i)\u001b[0m\n\u001b[0;32m     29\u001b[0m depth \u001b[38;5;241m=\u001b[39m depth \u001b[38;5;241m-\u001b[39m \u001b[38;5;241m1\u001b[39m    \n\u001b[0;32m     30\u001b[0m \u001b[38;5;28mprint\u001b[39m(i\u001b[38;5;241m*\u001b[39m\u001b[38;5;124m'\u001b[39m\u001b[38;5;124m  \u001b[39m\u001b[38;5;124m'\u001b[39m, url)         \n\u001b[1;32m---> 32\u001b[0m objective \u001b[38;5;241m=\u001b[39m \u001b[43murlopen\u001b[49m\u001b[43m(\u001b[49m\u001b[43murl\u001b[49m\u001b[43m)\u001b[49m\u001b[38;5;241m.\u001b[39mread()\u001b[38;5;241m.\u001b[39mdecode()\n\u001b[0;32m     33\u001b[0m collection \u001b[38;5;241m=\u001b[39m urlcollector(url)\n\u001b[0;32m     34\u001b[0m collection\u001b[38;5;241m.\u001b[39mfeed(objective)\n",
      "File \u001b[1;32m~\\ANACONDA\\lib\\urllib\\request.py:214\u001b[0m, in \u001b[0;36murlopen\u001b[1;34m(url, data, timeout, cafile, capath, cadefault, context)\u001b[0m\n\u001b[0;32m    212\u001b[0m \u001b[38;5;28;01melse\u001b[39;00m:\n\u001b[0;32m    213\u001b[0m     opener \u001b[38;5;241m=\u001b[39m _opener\n\u001b[1;32m--> 214\u001b[0m \u001b[38;5;28;01mreturn\u001b[39;00m \u001b[43mopener\u001b[49m\u001b[38;5;241;43m.\u001b[39;49m\u001b[43mopen\u001b[49m\u001b[43m(\u001b[49m\u001b[43murl\u001b[49m\u001b[43m,\u001b[49m\u001b[43m \u001b[49m\u001b[43mdata\u001b[49m\u001b[43m,\u001b[49m\u001b[43m \u001b[49m\u001b[43mtimeout\u001b[49m\u001b[43m)\u001b[49m\n",
      "File \u001b[1;32m~\\ANACONDA\\lib\\urllib\\request.py:523\u001b[0m, in \u001b[0;36mOpenerDirector.open\u001b[1;34m(self, fullurl, data, timeout)\u001b[0m\n\u001b[0;32m    521\u001b[0m \u001b[38;5;28;01mfor\u001b[39;00m processor \u001b[38;5;129;01min\u001b[39;00m \u001b[38;5;28mself\u001b[39m\u001b[38;5;241m.\u001b[39mprocess_response\u001b[38;5;241m.\u001b[39mget(protocol, []):\n\u001b[0;32m    522\u001b[0m     meth \u001b[38;5;241m=\u001b[39m \u001b[38;5;28mgetattr\u001b[39m(processor, meth_name)\n\u001b[1;32m--> 523\u001b[0m     response \u001b[38;5;241m=\u001b[39m \u001b[43mmeth\u001b[49m\u001b[43m(\u001b[49m\u001b[43mreq\u001b[49m\u001b[43m,\u001b[49m\u001b[43m \u001b[49m\u001b[43mresponse\u001b[49m\u001b[43m)\u001b[49m\n\u001b[0;32m    525\u001b[0m \u001b[38;5;28;01mreturn\u001b[39;00m response\n",
      "File \u001b[1;32m~\\ANACONDA\\lib\\urllib\\request.py:632\u001b[0m, in \u001b[0;36mHTTPErrorProcessor.http_response\u001b[1;34m(self, request, response)\u001b[0m\n\u001b[0;32m    629\u001b[0m \u001b[38;5;66;03m# According to RFC 2616, \"2xx\" code indicates that the client's\u001b[39;00m\n\u001b[0;32m    630\u001b[0m \u001b[38;5;66;03m# request was successfully received, understood, and accepted.\u001b[39;00m\n\u001b[0;32m    631\u001b[0m \u001b[38;5;28;01mif\u001b[39;00m \u001b[38;5;129;01mnot\u001b[39;00m (\u001b[38;5;241m200\u001b[39m \u001b[38;5;241m<\u001b[39m\u001b[38;5;241m=\u001b[39m code \u001b[38;5;241m<\u001b[39m \u001b[38;5;241m300\u001b[39m):\n\u001b[1;32m--> 632\u001b[0m     response \u001b[38;5;241m=\u001b[39m \u001b[38;5;28;43mself\u001b[39;49m\u001b[38;5;241;43m.\u001b[39;49m\u001b[43mparent\u001b[49m\u001b[38;5;241;43m.\u001b[39;49m\u001b[43merror\u001b[49m\u001b[43m(\u001b[49m\n\u001b[0;32m    633\u001b[0m \u001b[43m        \u001b[49m\u001b[38;5;124;43m'\u001b[39;49m\u001b[38;5;124;43mhttp\u001b[39;49m\u001b[38;5;124;43m'\u001b[39;49m\u001b[43m,\u001b[49m\u001b[43m \u001b[49m\u001b[43mrequest\u001b[49m\u001b[43m,\u001b[49m\u001b[43m \u001b[49m\u001b[43mresponse\u001b[49m\u001b[43m,\u001b[49m\u001b[43m \u001b[49m\u001b[43mcode\u001b[49m\u001b[43m,\u001b[49m\u001b[43m \u001b[49m\u001b[43mmsg\u001b[49m\u001b[43m,\u001b[49m\u001b[43m \u001b[49m\u001b[43mhdrs\u001b[49m\u001b[43m)\u001b[49m\n\u001b[0;32m    635\u001b[0m \u001b[38;5;28;01mreturn\u001b[39;00m response\n",
      "File \u001b[1;32m~\\ANACONDA\\lib\\urllib\\request.py:561\u001b[0m, in \u001b[0;36mOpenerDirector.error\u001b[1;34m(self, proto, *args)\u001b[0m\n\u001b[0;32m    559\u001b[0m \u001b[38;5;28;01mif\u001b[39;00m http_err:\n\u001b[0;32m    560\u001b[0m     args \u001b[38;5;241m=\u001b[39m (\u001b[38;5;28mdict\u001b[39m, \u001b[38;5;124m'\u001b[39m\u001b[38;5;124mdefault\u001b[39m\u001b[38;5;124m'\u001b[39m, \u001b[38;5;124m'\u001b[39m\u001b[38;5;124mhttp_error_default\u001b[39m\u001b[38;5;124m'\u001b[39m) \u001b[38;5;241m+\u001b[39m orig_args\n\u001b[1;32m--> 561\u001b[0m     \u001b[38;5;28;01mreturn\u001b[39;00m \u001b[38;5;28;43mself\u001b[39;49m\u001b[38;5;241;43m.\u001b[39;49m\u001b[43m_call_chain\u001b[49m\u001b[43m(\u001b[49m\u001b[38;5;241;43m*\u001b[39;49m\u001b[43margs\u001b[49m\u001b[43m)\u001b[49m\n",
      "File \u001b[1;32m~\\ANACONDA\\lib\\urllib\\request.py:494\u001b[0m, in \u001b[0;36mOpenerDirector._call_chain\u001b[1;34m(self, chain, kind, meth_name, *args)\u001b[0m\n\u001b[0;32m    492\u001b[0m \u001b[38;5;28;01mfor\u001b[39;00m handler \u001b[38;5;129;01min\u001b[39;00m handlers:\n\u001b[0;32m    493\u001b[0m     func \u001b[38;5;241m=\u001b[39m \u001b[38;5;28mgetattr\u001b[39m(handler, meth_name)\n\u001b[1;32m--> 494\u001b[0m     result \u001b[38;5;241m=\u001b[39m \u001b[43mfunc\u001b[49m\u001b[43m(\u001b[49m\u001b[38;5;241;43m*\u001b[39;49m\u001b[43margs\u001b[49m\u001b[43m)\u001b[49m\n\u001b[0;32m    495\u001b[0m     \u001b[38;5;28;01mif\u001b[39;00m result \u001b[38;5;129;01mis\u001b[39;00m \u001b[38;5;129;01mnot\u001b[39;00m \u001b[38;5;28;01mNone\u001b[39;00m:\n\u001b[0;32m    496\u001b[0m         \u001b[38;5;28;01mreturn\u001b[39;00m result\n",
      "File \u001b[1;32m~\\ANACONDA\\lib\\urllib\\request.py:641\u001b[0m, in \u001b[0;36mHTTPDefaultErrorHandler.http_error_default\u001b[1;34m(self, req, fp, code, msg, hdrs)\u001b[0m\n\u001b[0;32m    640\u001b[0m \u001b[38;5;28;01mdef\u001b[39;00m \u001b[38;5;21mhttp_error_default\u001b[39m(\u001b[38;5;28mself\u001b[39m, req, fp, code, msg, hdrs):\n\u001b[1;32m--> 641\u001b[0m     \u001b[38;5;28;01mraise\u001b[39;00m HTTPError(req\u001b[38;5;241m.\u001b[39mfull_url, code, msg, hdrs, fp)\n",
      "\u001b[1;31mHTTPError\u001b[0m: HTTP Error 404: "
     ]
    }
   ],
   "source": [
    "webdir('http://reed.cs.depaul.edu/lperkovic/csc242/test1.html',2, 0)\n"
   ]
  },
  {
   "cell_type": "code",
   "execution_count": null,
   "id": "309d7f4c",
   "metadata": {},
   "outputs": [],
   "source": [
    "import requests\n",
    "from bs4 import BeautifulSoup\n",
    "\n",
    "def webdir(url, depth, indent):\n",
    "    if depth < 0:\n",
    "        return\n",
    "\n",
    "    try:\n",
    "        response = requests.get(url)\n",
    "        soup = BeautifulSoup(response.text, 'html.parser')\n",
    "        print('    ' * indent + url)\n",
    "        if depth > 0:\n",
    "            links = soup.find_all('a', href=True)\n",
    "            for link in links:\n",
    "                new_url = link['href']\n",
    "                if not new_url.startswith('http'):\n",
    "                    new_url = '/'.join(url.split('/')[:-1]) + '/' + new_url\n",
    "                webdir(new_url, depth - 1, indent + 1)\n",
    "    except requests.exceptions.RequestException as e:\n",
    "        print(f\"An error occurred: {e}\")\n",
    "\n",
    "# Example usage:\n",
    "webdir('http://reed.cs.depaul.edu/lperkovic/csc242/test1.html', 2, 0)\n"
   ]
  },
  {
   "cell_type": "markdown",
   "id": "9ee63048",
   "metadata": {},
   "source": [
    "## Answer 8\n"
   ]
  },
  {
   "cell_type": "markdown",
   "id": "5d528fdb",
   "metadata": {},
   "source": [
    "# a"
   ]
  },
  {
   "cell_type": "code",
   "execution_count": 10,
   "id": "a5924893",
   "metadata": {},
   "outputs": [
    {
     "name": "stdout",
     "output_type": "stream",
     "text": [
      "(24.8,)\n",
      "(28.4,)\n",
      "(27.9,)\n",
      "(27.6,)\n",
      "(4.2,)\n",
      "(8.3,)\n",
      "(15.7,)\n",
      "(10.4,)\n",
      "(13.6,)\n",
      "(20.7,)\n",
      "(27.7,)\n",
      "(22.2,)\n"
     ]
    }
   ],
   "source": [
    "import mysql.connector\n",
    "\n",
    "# Establishing the connection\n",
    "conn = mysql.connector.connect(\n",
    "    user='root',\n",
    "    password='root',\n",
    "    host='localhost',\n",
    "    database='db1'\n",
    ")\n",
    "\n",
    "# Creating a cursor object using the cursor() method\n",
    "cursor = conn.cursor()\n",
    "\n",
    "# Executing the query\n",
    "cursor.execute(\"SELECT Temperature FROM assignment\")\n",
    "\n",
    "# Fetching all the rows in a list of lists\n",
    "result = cursor.fetchall()\n",
    "for row in result:\n",
    "    print(row)\n",
    "\n",
    "# Closing the connection\n",
    "conn.close()\n"
   ]
  },
  {
   "cell_type": "markdown",
   "id": "f13cd6ff",
   "metadata": {},
   "source": [
    "# b"
   ]
  },
  {
   "cell_type": "code",
   "execution_count": 11,
   "id": "47181c1e",
   "metadata": {},
   "outputs": [
    {
     "name": "stdout",
     "output_type": "stream",
     "text": [
      "('Mumbai',)\n",
      "('Mumbai',)\n",
      "('Mumbai',)\n",
      "('Mumbai',)\n",
      "('London',)\n",
      "('London',)\n",
      "('London',)\n",
      "('London',)\n",
      "('Cairo',)\n",
      "('Cairo',)\n",
      "('Cairo',)\n",
      "('Cairo',)\n"
     ]
    }
   ],
   "source": [
    "import mysql.connector\n",
    "\n",
    "# Establishing the connection\n",
    "conn = mysql.connector.connect(\n",
    "    user='root',\n",
    "    password='root',\n",
    "    host='localhost',\n",
    "    database='db1'\n",
    ")\n",
    "# Creating a cursor object using the cursor() method\n",
    "cursor = conn.cursor()\n",
    "\n",
    "# Executing the query\n",
    "cursor.execute(\"SELECT City FROM assignment\")\n",
    "\n",
    "# Fetching all the rows in a list of lists\n",
    "result = cursor.fetchall()\n",
    "for row in result:\n",
    "    print(row)\n",
    "\n",
    "# Closing the connection\n",
    "conn.close()"
   ]
  },
  {
   "cell_type": "markdown",
   "id": "8e5dbc7d",
   "metadata": {},
   "source": [
    "# c"
   ]
  },
  {
   "cell_type": "code",
   "execution_count": 12,
   "id": "7b3b9e4a",
   "metadata": {},
   "outputs": [
    {
     "name": "stdout",
     "output_type": "stream",
     "text": [
      "('Mumbai', 'India', 'Winter', 24.8, 5.9)\n",
      "('Mumbai', 'India', 'Spring', 28.4, 16.2)\n",
      "('Mumbai', 'India', 'Summer ', 27.9, 1549.4)\n",
      "('Mumbai', 'India', 'Fall ', 27.6, 346.0)\n"
     ]
    }
   ],
   "source": [
    "import mysql.connector\n",
    "\n",
    "# Establishing the connection\n",
    "conn = mysql.connector.connect(\n",
    "    user='root',\n",
    "    password='root',\n",
    "    host='localhost',\n",
    "    database='db1'\n",
    ")\n",
    "# Creating a cursor object using the cursor() method\n",
    "cursor = conn.cursor()\n",
    "\n",
    "# Executing the query\n",
    "cursor.execute(\"SELECT * FROM assignment WHERE Country = 'India'\")\n",
    "\n",
    "# Fetching all the rows in a list of lists\n",
    "result = cursor.fetchall()\n",
    "for row in result:\n",
    "    print(row)\n",
    "\n",
    "# Closing the connection\n",
    "conn.close()"
   ]
  },
  {
   "cell_type": "markdown",
   "id": "00dc6fca",
   "metadata": {},
   "source": [
    "# d"
   ]
  },
  {
   "cell_type": "code",
   "execution_count": 13,
   "id": "e215ea0b",
   "metadata": {},
   "outputs": [
    {
     "name": "stdout",
     "output_type": "stream",
     "text": [
      "('London', 'United Kingdom', 'Fall', 10.4, 218.5)\n",
      "('Cairo', 'Egypt', 'Fall', 22.2, 4.5)\n"
     ]
    }
   ],
   "source": [
    "import mysql.connector\n",
    "\n",
    "# Establishing the connection\n",
    "conn = mysql.connector.connect(\n",
    "    user='root',\n",
    "    password='root',\n",
    "    host='localhost',\n",
    "    database='db1'\n",
    ")\n",
    "# Creating a cursor object using the cursor() method\n",
    "cursor = conn.cursor()\n",
    "\n",
    "# Executing the query\n",
    "cursor.execute(\"SELECT * FROM assignment WHERE Season = 'Fall'\")\n",
    "\n",
    "# Fetching all the rows in a list of lists\n",
    "result = cursor.fetchall()\n",
    "for row in result:\n",
    "    print(row)\n",
    "\n",
    "# Closing the connection\n",
    "conn.close()"
   ]
  },
  {
   "cell_type": "markdown",
   "id": "d48bcf60",
   "metadata": {},
   "source": [
    "# e"
   ]
  },
  {
   "cell_type": "code",
   "execution_count": 14,
   "id": "a7480edb",
   "metadata": {},
   "outputs": [
    {
     "name": "stdout",
     "output_type": "stream",
     "text": [
      "('Mumbai', 'India', 'Fall ')\n",
      "('London', 'United Kingdom', 'Winter')\n",
      "('London', 'United Kingdom', 'Fall')\n"
     ]
    }
   ],
   "source": [
    "import mysql.connector\n",
    "\n",
    "# Establishing the connection\n",
    "conn = mysql.connector.connect(\n",
    "    user='root',\n",
    "    password='root',\n",
    "    host='localhost',\n",
    "    database='db1'\n",
    ")\n",
    "# Creating a cursor object using the cursor() method\n",
    "cursor = conn.cursor()\n",
    "\n",
    "# Executing the query\n",
    "cursor.execute(\"SELECT City, Country, Season FROM assignment WHERE Rainfall BETWEEN 200 AND 400\")\n",
    "\n",
    "# Fetching all the rows in a list of lists\n",
    "result = cursor.fetchall()\n",
    "for row in result:\n",
    "    print(row)\n",
    "\n",
    "# Closing the connection\n",
    "conn.close()"
   ]
  },
  {
   "cell_type": "markdown",
   "id": "012f9a3a",
   "metadata": {},
   "source": [
    "# f"
   ]
  },
  {
   "cell_type": "code",
   "execution_count": 15,
   "id": "d47ad768",
   "metadata": {},
   "outputs": [
    {
     "name": "stdout",
     "output_type": "stream",
     "text": [
      "('Cairo', 'Egypt')\n"
     ]
    }
   ],
   "source": [
    "import mysql.connector\n",
    "\n",
    "# Establishing the connection\n",
    "conn = mysql.connector.connect(\n",
    "    user='root',\n",
    "    password='root',\n",
    "    host='localhost',\n",
    "    database='db1'\n",
    ")\n",
    "# Creating a cursor object using the cursor() method\n",
    "cursor = conn.cursor()\n",
    "\n",
    "# Executing the query\n",
    "cursor.execute(\"SELECT City, Country FROM assignment WHERE Season = 'Fall' GROUP BY City, Country HAVING AVG(Temperature) > 20 ORDER BY AVG(Temperature) ASC\")\n",
    "\n",
    "# Fetching all the rows in a list of lists\n",
    "result = cursor.fetchall()\n",
    "for row in result:\n",
    "    print(row)\n",
    "\n",
    "# Closing the connection\n",
    "conn.close()"
   ]
  },
  {
   "cell_type": "markdown",
   "id": "79345bd5",
   "metadata": {},
   "source": [
    "# g"
   ]
  },
  {
   "cell_type": "code",
   "execution_count": 16,
   "id": "15e288f3",
   "metadata": {},
   "outputs": [
    {
     "name": "stdout",
     "output_type": "stream",
     "text": [
      "(27.600000001490116,)\n"
     ]
    }
   ],
   "source": [
    "import mysql.connector\n",
    "\n",
    "# Establishing the connection\n",
    "conn = mysql.connector.connect(\n",
    "    user='root',\n",
    "    password='root',\n",
    "    host='localhost',\n",
    "    database='db1'\n",
    ")\n",
    "# Creating a cursor object using the cursor() method\n",
    "cursor = conn.cursor()\n",
    "\n",
    "# Executing the query\n",
    "cursor.execute(\"SELECT SUM(Rainfall) AS Total_Rainfall FROM assignment WHERE City = 'Cairo'\")\n",
    "\n",
    "# Fetching all the rows in a list of lists\n",
    "result = cursor.fetchall()\n",
    "for row in result:\n",
    "    print(row)\n",
    "\n",
    "# Closing the connection\n",
    "conn.close()"
   ]
  },
  {
   "cell_type": "markdown",
   "id": "935bd0f9",
   "metadata": {},
   "source": [
    "# h"
   ]
  },
  {
   "cell_type": "code",
   "execution_count": 17,
   "id": "53275932",
   "metadata": {},
   "outputs": [
    {
     "name": "stdout",
     "output_type": "stream",
     "text": [
      "('Winter', 230.09999704360962)\n",
      "('Spring', 192.30000686645508)\n",
      "('Summer ', 1549.5000244155526)\n",
      "('Fall ', 346.0)\n",
      "('Summer', 157.0)\n",
      "('Fall', 223.0)\n"
     ]
    }
   ],
   "source": [
    "import mysql.connector\n",
    "\n",
    "# Establishing the connection\n",
    "conn = mysql.connector.connect(\n",
    "    user='root',\n",
    "    password='root',\n",
    "    host='localhost',\n",
    "    database='db1'\n",
    ")\n",
    "# Creating a cursor object using the cursor() method\n",
    "cursor = conn.cursor()\n",
    "\n",
    "# Executing the query\n",
    "cursor.execute(\"SELECT Season, SUM(Rainfall) AS Total_Rainfall FROM assignment GROUP BY Season\")\n",
    "\n",
    "# Fetching all the rows in a list of lists\n",
    "result = cursor.fetchall()\n",
    "for row in result:\n",
    "    print(row)\n",
    "\n",
    "# Closing the connection\n",
    "conn.close()"
   ]
  },
  {
   "cell_type": "markdown",
   "id": "0542a0db",
   "metadata": {},
   "source": [
    "## Answer 9"
   ]
  },
  {
   "cell_type": "code",
   "execution_count": 18,
   "id": "962fd547",
   "metadata": {},
   "outputs": [],
   "source": [
    "words = ['The', 'quick', 'brown', 'fox', 'jumps', 'over', 'the', 'lazy', 'dog']"
   ]
  },
  {
   "cell_type": "code",
   "execution_count": 19,
   "id": "9a639fad",
   "metadata": {},
   "outputs": [
    {
     "data": {
      "text/plain": [
       "['THE', 'QUICK', 'BROWN', 'FOX', 'JUMPS', 'OVER', 'THE', 'LAZY', 'DOG']"
      ]
     },
     "execution_count": 19,
     "metadata": {},
     "output_type": "execute_result"
    }
   ],
   "source": [
    "[ref.upper() for ref in words]"
   ]
  },
  {
   "cell_type": "code",
   "execution_count": 20,
   "id": "de6b9115",
   "metadata": {},
   "outputs": [
    {
     "data": {
      "text/plain": [
       "['the', 'quick', 'brown', 'fox', 'jumps', 'over', 'the', 'lazy', 'dog']"
      ]
     },
     "execution_count": 20,
     "metadata": {},
     "output_type": "execute_result"
    }
   ],
   "source": [
    "[ref.lower() for ref in words]"
   ]
  },
  {
   "cell_type": "code",
   "execution_count": 21,
   "id": "0e483c74",
   "metadata": {},
   "outputs": [
    {
     "data": {
      "text/plain": [
       "[3, 5, 5, 3, 5, 4, 3, 4, 3]"
      ]
     },
     "execution_count": 21,
     "metadata": {},
     "output_type": "execute_result"
    }
   ],
   "source": [
    "[len(ref) for ref in words]"
   ]
  },
  {
   "cell_type": "code",
   "execution_count": 22,
   "id": "e4f8c377",
   "metadata": {},
   "outputs": [
    {
     "data": {
      "text/plain": [
       "[['THE', 'the', 3],\n",
       " ['QUICK', 'quick', 5],\n",
       " ['BROWN', 'brown', 5],\n",
       " ['FOX', 'fox', 3],\n",
       " ['JUMPS', 'jumps', 5],\n",
       " ['OVER', 'over', 4],\n",
       " ['THE', 'the', 3],\n",
       " ['LAZY', 'lazy', 4],\n",
       " ['DOG', 'dog', 3]]"
      ]
     },
     "execution_count": 22,
     "metadata": {},
     "output_type": "execute_result"
    }
   ],
   "source": [
    "[[ref.upper(),ref.lower(),len(ref)] for ref in words]"
   ]
  },
  {
   "cell_type": "code",
   "execution_count": 23,
   "id": "e551ae37",
   "metadata": {},
   "outputs": [
    {
     "data": {
      "text/plain": [
       "['quick', 'brown', 'jumps', 'over', 'lazy']"
      ]
     },
     "execution_count": 23,
     "metadata": {},
     "output_type": "execute_result"
    }
   ],
   "source": [
    "[ref for ref in words if len(ref) >= 4]"
   ]
  },
  {
   "cell_type": "code",
   "execution_count": null,
   "id": "a837302e",
   "metadata": {},
   "outputs": [],
   "source": []
  }
 ],
 "metadata": {
  "kernelspec": {
   "display_name": "Python 3 (ipykernel)",
   "language": "python",
   "name": "python3"
  },
  "language_info": {
   "codemirror_mode": {
    "name": "ipython",
    "version": 3
   },
   "file_extension": ".py",
   "mimetype": "text/x-python",
   "name": "python",
   "nbconvert_exporter": "python",
   "pygments_lexer": "ipython3",
   "version": "3.9.12"
  }
 },
 "nbformat": 4,
 "nbformat_minor": 5
}
